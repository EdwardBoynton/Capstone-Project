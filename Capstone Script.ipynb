{
 "cells": [
  {
   "cell_type": "markdown",
   "id": "55670a9e-b100-44f6-8977-f93a2621003b",
   "metadata": {},
   "source": [
    "# Capstone Project - North Shore Oahu Wave forecast "
   ]
  },
  {
   "cell_type": "markdown",
   "id": "93b7e638-d85b-4a41-8779-0238e5a11a36",
   "metadata": {
    "tags": []
   },
   "source": [
    "## 1.0 Importing data and libraries"
   ]
  },
  {
   "cell_type": "code",
   "execution_count": 1,
   "id": "df36d341-bf04-4a99-97e4-2066a536b570",
   "metadata": {
    "tags": []
   },
   "outputs": [],
   "source": [
    "import pandas as pd\n",
    "import numpy as np\n",
    "import matplotlib.pyplot as plt\n",
    "import seaborn as sns\n",
    "from sklearn.tree import DecisionTreeClassifier\n",
    "from sklearn import tree\n",
    "from sklearn.model_selection import GridSearchCV\n",
    "from time import time "
   ]
  },
  {
   "cell_type": "code",
   "execution_count": 2,
   "id": "9dbacf83-3038-4315-ae1a-c32a57db895c",
   "metadata": {
    "tags": []
   },
   "outputs": [
    {
     "data": {
      "text/html": [
       "<div>\n",
       "<style scoped>\n",
       "    .dataframe tbody tr th:only-of-type {\n",
       "        vertical-align: middle;\n",
       "    }\n",
       "\n",
       "    .dataframe tbody tr th {\n",
       "        vertical-align: top;\n",
       "    }\n",
       "\n",
       "    .dataframe thead th {\n",
       "        text-align: right;\n",
       "    }\n",
       "</style>\n",
       "<table border=\"1\" class=\"dataframe\">\n",
       "  <thead>\n",
       "    <tr style=\"text-align: right;\">\n",
       "      <th></th>\n",
       "      <th>date</th>\n",
       "      <th>northshore wh</th>\n",
       "      <th>west side wh</th>\n",
       "      <th>southshore wh</th>\n",
       "      <th>diamond head wh</th>\n",
       "      <th>east side wh</th>\n",
       "      <th>wspd</th>\n",
       "      <th>wdir</th>\n",
       "      <th>nsd</th>\n",
       "      <th>ssd</th>\n",
       "    </tr>\n",
       "  </thead>\n",
       "  <tbody>\n",
       "    <tr>\n",
       "      <th>0</th>\n",
       "      <td>01/01/1990</td>\n",
       "      <td>5</td>\n",
       "      <td>2</td>\n",
       "      <td>1</td>\n",
       "      <td>1</td>\n",
       "      <td>6</td>\n",
       "      <td>6</td>\n",
       "      <td>3</td>\n",
       "      <td>999</td>\n",
       "      <td>999</td>\n",
       "    </tr>\n",
       "    <tr>\n",
       "      <th>1</th>\n",
       "      <td>02/01/1990</td>\n",
       "      <td>4</td>\n",
       "      <td>2</td>\n",
       "      <td>1</td>\n",
       "      <td>1</td>\n",
       "      <td>5</td>\n",
       "      <td>5</td>\n",
       "      <td>3</td>\n",
       "      <td>999</td>\n",
       "      <td>999</td>\n",
       "    </tr>\n",
       "    <tr>\n",
       "      <th>2</th>\n",
       "      <td>03/01/1990</td>\n",
       "      <td>8</td>\n",
       "      <td>4</td>\n",
       "      <td>2</td>\n",
       "      <td>2</td>\n",
       "      <td>5</td>\n",
       "      <td>5</td>\n",
       "      <td>3</td>\n",
       "      <td>999</td>\n",
       "      <td>999</td>\n",
       "    </tr>\n",
       "    <tr>\n",
       "      <th>3</th>\n",
       "      <td>04/01/1990</td>\n",
       "      <td>5</td>\n",
       "      <td>4</td>\n",
       "      <td>1</td>\n",
       "      <td>2</td>\n",
       "      <td>5</td>\n",
       "      <td>5</td>\n",
       "      <td>3</td>\n",
       "      <td>999</td>\n",
       "      <td>999</td>\n",
       "    </tr>\n",
       "    <tr>\n",
       "      <th>4</th>\n",
       "      <td>05/01/1990</td>\n",
       "      <td>6</td>\n",
       "      <td>4</td>\n",
       "      <td>1</td>\n",
       "      <td>2</td>\n",
       "      <td>5</td>\n",
       "      <td>6</td>\n",
       "      <td>3</td>\n",
       "      <td>999</td>\n",
       "      <td>999</td>\n",
       "    </tr>\n",
       "  </tbody>\n",
       "</table>\n",
       "</div>"
      ],
      "text/plain": [
       "         date  northshore wh  west side wh  southshore wh  diamond head wh  \\\n",
       "0  01/01/1990              5             2              1                1   \n",
       "1  02/01/1990              4             2              1                1   \n",
       "2  03/01/1990              8             4              2                2   \n",
       "3  04/01/1990              5             4              1                2   \n",
       "4  05/01/1990              6             4              1                2   \n",
       "\n",
       "   east side wh  wspd  wdir  nsd  ssd  \n",
       "0             6     6     3  999  999  \n",
       "1             5     5     3  999  999  \n",
       "2             5     5     3  999  999  \n",
       "3             5     5     3  999  999  \n",
       "4             5     6     3  999  999  "
      ]
     },
     "execution_count": 2,
     "metadata": {},
     "output_type": "execute_result"
    }
   ],
   "source": [
    "df = pd.read_csv(r\"C:\\Users\\edwar\\OneDrive\\Documents\\Digital Futures\\Capstone Project\\oahufull.csv\")\n",
    "df.head()"
   ]
  },
  {
   "cell_type": "markdown",
   "id": "cf129f6f-b029-48d7-bfea-f5d31eeb181d",
   "metadata": {
    "tags": []
   },
   "source": [
    "## 2.0 cleaning data"
   ]
  },
  {
   "cell_type": "code",
   "execution_count": null,
   "id": "2911a452-e607-4bac-8020-b4690cb573d2",
   "metadata": {
    "tags": []
   },
   "outputs": [],
   "source": [
    "df.info()"
   ]
  },
  {
   "cell_type": "markdown",
   "id": "bebc2683-89c4-4649-94ae-dd204b5a3275",
   "metadata": {
    "tags": []
   },
   "source": [
    "#### 2.1 Converting date into date into datetime object"
   ]
  },
  {
   "cell_type": "code",
   "execution_count": 4,
   "id": "bb07c1e7-dea4-49a1-8acc-9a2e4299e1aa",
   "metadata": {
    "tags": []
   },
   "outputs": [],
   "source": [
    "df['date'] = pd.to_datetime(df['date'], dayfirst = True)"
   ]
  },
  {
   "cell_type": "markdown",
   "id": "c54e78ff-d551-4073-a942-c94d1241275b",
   "metadata": {},
   "source": [
    "#### 2.2 Replace data set assigned nulls (999) with NaN"
   ]
  },
  {
   "cell_type": "code",
   "execution_count": 5,
   "id": "2f205898-7f61-4507-9e6b-99a3e3ce733a",
   "metadata": {
    "tags": []
   },
   "outputs": [],
   "source": [
    "df.replace(999, np.NaN, inplace = True)"
   ]
  },
  {
   "cell_type": "code",
   "execution_count": 6,
   "id": "34b2e42d-dee3-4be3-b09f-da520bc572fb",
   "metadata": {
    "tags": []
   },
   "outputs": [
    {
     "name": "stdout",
     "output_type": "stream",
     "text": [
      "<class 'pandas.core.frame.DataFrame'>\n",
      "RangeIndex: 11304 entries, 0 to 11303\n",
      "Data columns (total 10 columns):\n",
      " #   Column           Non-Null Count  Dtype         \n",
      "---  ------           --------------  -----         \n",
      " 0   date             11304 non-null  datetime64[ns]\n",
      " 1   northshore wh    11304 non-null  int64         \n",
      " 2   west side wh     11304 non-null  int64         \n",
      " 3   southshore wh    11304 non-null  int64         \n",
      " 4   diamond head wh  11304 non-null  int64         \n",
      " 5   east side wh     11304 non-null  int64         \n",
      " 6   wspd             11304 non-null  int64         \n",
      " 7   wdir             11185 non-null  float64       \n",
      " 8   nsd              7464 non-null   float64       \n",
      " 9   ssd              11304 non-null  object        \n",
      "dtypes: datetime64[ns](1), float64(2), int64(6), object(1)\n",
      "memory usage: 883.3+ KB\n"
     ]
    }
   ],
   "source": [
    "df.info()"
   ]
  },
  {
   "cell_type": "markdown",
   "id": "3dadb8d1-e254-48a2-a978-13ea0191c4c7",
   "metadata": {},
   "source": [
    "#### 2.3 Counting nulls"
   ]
  },
  {
   "cell_type": "code",
   "execution_count": 7,
   "id": "6e1ed59c-a5ae-4f6c-b432-dae0654f732c",
   "metadata": {
    "tags": []
   },
   "outputs": [
    {
     "data": {
      "text/plain": [
       "date                  0\n",
       "northshore wh         0\n",
       "west side wh          0\n",
       "southshore wh         0\n",
       "diamond head wh       0\n",
       "east side wh          0\n",
       "wspd                  0\n",
       "wdir                119\n",
       "nsd                3840\n",
       "ssd                   0\n",
       "dtype: int64"
      ]
     },
     "execution_count": 7,
     "metadata": {},
     "output_type": "execute_result"
    }
   ],
   "source": [
    "df.isnull().sum()"
   ]
  },
  {
   "cell_type": "code",
   "execution_count": 8,
   "id": "d9e9163f-eeb3-4837-a824-f2985a4ae96c",
   "metadata": {
    "tags": []
   },
   "outputs": [],
   "source": [
    "## Dropping ssd column, useless and too many 999 values\n",
    "df = df.drop(['ssd'], axis = 1)"
   ]
  },
  {
   "cell_type": "code",
   "execution_count": 9,
   "id": "86c1adce-1c5e-4d23-9194-10d6fae5363e",
   "metadata": {
    "tags": []
   },
   "outputs": [
    {
     "data": {
      "text/plain": [
       "(11304, 9)"
      ]
     },
     "execution_count": 9,
     "metadata": {},
     "output_type": "execute_result"
    }
   ],
   "source": [
    "df.shape"
   ]
  },
  {
   "cell_type": "code",
   "execution_count": 10,
   "id": "b3d60688-d547-4a2c-967d-49d61b1ae88b",
   "metadata": {
    "tags": []
   },
   "outputs": [
    {
     "data": {
      "text/html": [
       "<div>\n",
       "<style scoped>\n",
       "    .dataframe tbody tr th:only-of-type {\n",
       "        vertical-align: middle;\n",
       "    }\n",
       "\n",
       "    .dataframe tbody tr th {\n",
       "        vertical-align: top;\n",
       "    }\n",
       "\n",
       "    .dataframe thead th {\n",
       "        text-align: right;\n",
       "    }\n",
       "</style>\n",
       "<table border=\"1\" class=\"dataframe\">\n",
       "  <thead>\n",
       "    <tr style=\"text-align: right;\">\n",
       "      <th></th>\n",
       "      <th>date</th>\n",
       "      <th>northshore wh</th>\n",
       "      <th>west side wh</th>\n",
       "      <th>southshore wh</th>\n",
       "      <th>diamond head wh</th>\n",
       "      <th>east side wh</th>\n",
       "      <th>wspd</th>\n",
       "      <th>wdir</th>\n",
       "      <th>nsd</th>\n",
       "    </tr>\n",
       "  </thead>\n",
       "  <tbody>\n",
       "    <tr>\n",
       "      <th>0</th>\n",
       "      <td>1990-01-01</td>\n",
       "      <td>5</td>\n",
       "      <td>2</td>\n",
       "      <td>1</td>\n",
       "      <td>1</td>\n",
       "      <td>6</td>\n",
       "      <td>6</td>\n",
       "      <td>3.0</td>\n",
       "      <td>NaN</td>\n",
       "    </tr>\n",
       "    <tr>\n",
       "      <th>1</th>\n",
       "      <td>1990-01-02</td>\n",
       "      <td>4</td>\n",
       "      <td>2</td>\n",
       "      <td>1</td>\n",
       "      <td>1</td>\n",
       "      <td>5</td>\n",
       "      <td>5</td>\n",
       "      <td>3.0</td>\n",
       "      <td>NaN</td>\n",
       "    </tr>\n",
       "    <tr>\n",
       "      <th>2</th>\n",
       "      <td>1990-01-03</td>\n",
       "      <td>8</td>\n",
       "      <td>4</td>\n",
       "      <td>2</td>\n",
       "      <td>2</td>\n",
       "      <td>5</td>\n",
       "      <td>5</td>\n",
       "      <td>3.0</td>\n",
       "      <td>NaN</td>\n",
       "    </tr>\n",
       "    <tr>\n",
       "      <th>3</th>\n",
       "      <td>1990-01-04</td>\n",
       "      <td>5</td>\n",
       "      <td>4</td>\n",
       "      <td>1</td>\n",
       "      <td>2</td>\n",
       "      <td>5</td>\n",
       "      <td>5</td>\n",
       "      <td>3.0</td>\n",
       "      <td>NaN</td>\n",
       "    </tr>\n",
       "    <tr>\n",
       "      <th>4</th>\n",
       "      <td>1990-01-05</td>\n",
       "      <td>6</td>\n",
       "      <td>4</td>\n",
       "      <td>1</td>\n",
       "      <td>2</td>\n",
       "      <td>5</td>\n",
       "      <td>6</td>\n",
       "      <td>3.0</td>\n",
       "      <td>NaN</td>\n",
       "    </tr>\n",
       "  </tbody>\n",
       "</table>\n",
       "</div>"
      ],
      "text/plain": [
       "        date  northshore wh  west side wh  southshore wh  diamond head wh  \\\n",
       "0 1990-01-01              5             2              1                1   \n",
       "1 1990-01-02              4             2              1                1   \n",
       "2 1990-01-03              8             4              2                2   \n",
       "3 1990-01-04              5             4              1                2   \n",
       "4 1990-01-05              6             4              1                2   \n",
       "\n",
       "   east side wh  wspd  wdir  nsd  \n",
       "0             6     6   3.0  NaN  \n",
       "1             5     5   3.0  NaN  \n",
       "2             5     5   3.0  NaN  \n",
       "3             5     5   3.0  NaN  \n",
       "4             5     6   3.0  NaN  "
      ]
     },
     "execution_count": 10,
     "metadata": {},
     "output_type": "execute_result"
    }
   ],
   "source": [
    "df.head()"
   ]
  },
  {
   "cell_type": "markdown",
   "id": "a1b957a7-9e45-42a8-87ff-ad3bc7c8822d",
   "metadata": {},
   "source": [
    "#### 2.4 Feature Engineering before null handling models"
   ]
  },
  {
   "cell_type": "code",
   "execution_count": 11,
   "id": "cef79fcf-b6e9-412c-ba19-2184d31c8479",
   "metadata": {
    "tags": []
   },
   "outputs": [],
   "source": [
    "def speedclean(data):\n",
    "    data = data.copy()\n",
    "    data = pd.get_dummies(data, columns = ['wdir'], prefix = 'wdir', drop_first = True, dtype = int)\n",
    "    data = pd.get_dummies(data, columns = ['nsd'], prefix = 'wdir', drop_first = True, dtype = int)\n",
    "    return data"
   ]
  },
  {
   "cell_type": "code",
   "execution_count": 12,
   "id": "835eca23-aa65-4407-9cbd-d77bc0542bad",
   "metadata": {
    "tags": []
   },
   "outputs": [
    {
     "data": {
      "text/html": [
       "<div>\n",
       "<style scoped>\n",
       "    .dataframe tbody tr th:only-of-type {\n",
       "        vertical-align: middle;\n",
       "    }\n",
       "\n",
       "    .dataframe tbody tr th {\n",
       "        vertical-align: top;\n",
       "    }\n",
       "\n",
       "    .dataframe thead th {\n",
       "        text-align: right;\n",
       "    }\n",
       "</style>\n",
       "<table border=\"1\" class=\"dataframe\">\n",
       "  <thead>\n",
       "    <tr style=\"text-align: right;\">\n",
       "      <th></th>\n",
       "      <th>date</th>\n",
       "      <th>northshore wh</th>\n",
       "      <th>west side wh</th>\n",
       "      <th>southshore wh</th>\n",
       "      <th>diamond head wh</th>\n",
       "      <th>east side wh</th>\n",
       "      <th>wspd</th>\n",
       "      <th>wdir_2.0</th>\n",
       "      <th>wdir_3.0</th>\n",
       "      <th>wdir_4.0</th>\n",
       "      <th>...</th>\n",
       "      <th>wdir_2.0</th>\n",
       "      <th>wdir_3.0</th>\n",
       "      <th>wdir_4.0</th>\n",
       "      <th>wdir_5.0</th>\n",
       "      <th>wdir_10.0</th>\n",
       "      <th>wdir_13.0</th>\n",
       "      <th>wdir_14.0</th>\n",
       "      <th>wdir_15.0</th>\n",
       "      <th>wdir_16.0</th>\n",
       "      <th>wdir_18.0</th>\n",
       "    </tr>\n",
       "  </thead>\n",
       "  <tbody>\n",
       "    <tr>\n",
       "      <th>0</th>\n",
       "      <td>1990-01-01</td>\n",
       "      <td>5</td>\n",
       "      <td>2</td>\n",
       "      <td>1</td>\n",
       "      <td>1</td>\n",
       "      <td>6</td>\n",
       "      <td>6</td>\n",
       "      <td>0</td>\n",
       "      <td>1</td>\n",
       "      <td>0</td>\n",
       "      <td>...</td>\n",
       "      <td>0</td>\n",
       "      <td>0</td>\n",
       "      <td>0</td>\n",
       "      <td>0</td>\n",
       "      <td>0</td>\n",
       "      <td>0</td>\n",
       "      <td>0</td>\n",
       "      <td>0</td>\n",
       "      <td>0</td>\n",
       "      <td>0</td>\n",
       "    </tr>\n",
       "    <tr>\n",
       "      <th>1</th>\n",
       "      <td>1990-01-02</td>\n",
       "      <td>4</td>\n",
       "      <td>2</td>\n",
       "      <td>1</td>\n",
       "      <td>1</td>\n",
       "      <td>5</td>\n",
       "      <td>5</td>\n",
       "      <td>0</td>\n",
       "      <td>1</td>\n",
       "      <td>0</td>\n",
       "      <td>...</td>\n",
       "      <td>0</td>\n",
       "      <td>0</td>\n",
       "      <td>0</td>\n",
       "      <td>0</td>\n",
       "      <td>0</td>\n",
       "      <td>0</td>\n",
       "      <td>0</td>\n",
       "      <td>0</td>\n",
       "      <td>0</td>\n",
       "      <td>0</td>\n",
       "    </tr>\n",
       "    <tr>\n",
       "      <th>2</th>\n",
       "      <td>1990-01-03</td>\n",
       "      <td>8</td>\n",
       "      <td>4</td>\n",
       "      <td>2</td>\n",
       "      <td>2</td>\n",
       "      <td>5</td>\n",
       "      <td>5</td>\n",
       "      <td>0</td>\n",
       "      <td>1</td>\n",
       "      <td>0</td>\n",
       "      <td>...</td>\n",
       "      <td>0</td>\n",
       "      <td>0</td>\n",
       "      <td>0</td>\n",
       "      <td>0</td>\n",
       "      <td>0</td>\n",
       "      <td>0</td>\n",
       "      <td>0</td>\n",
       "      <td>0</td>\n",
       "      <td>0</td>\n",
       "      <td>0</td>\n",
       "    </tr>\n",
       "    <tr>\n",
       "      <th>3</th>\n",
       "      <td>1990-01-04</td>\n",
       "      <td>5</td>\n",
       "      <td>4</td>\n",
       "      <td>1</td>\n",
       "      <td>2</td>\n",
       "      <td>5</td>\n",
       "      <td>5</td>\n",
       "      <td>0</td>\n",
       "      <td>1</td>\n",
       "      <td>0</td>\n",
       "      <td>...</td>\n",
       "      <td>0</td>\n",
       "      <td>0</td>\n",
       "      <td>0</td>\n",
       "      <td>0</td>\n",
       "      <td>0</td>\n",
       "      <td>0</td>\n",
       "      <td>0</td>\n",
       "      <td>0</td>\n",
       "      <td>0</td>\n",
       "      <td>0</td>\n",
       "    </tr>\n",
       "    <tr>\n",
       "      <th>4</th>\n",
       "      <td>1990-01-05</td>\n",
       "      <td>6</td>\n",
       "      <td>4</td>\n",
       "      <td>1</td>\n",
       "      <td>2</td>\n",
       "      <td>5</td>\n",
       "      <td>6</td>\n",
       "      <td>0</td>\n",
       "      <td>1</td>\n",
       "      <td>0</td>\n",
       "      <td>...</td>\n",
       "      <td>0</td>\n",
       "      <td>0</td>\n",
       "      <td>0</td>\n",
       "      <td>0</td>\n",
       "      <td>0</td>\n",
       "      <td>0</td>\n",
       "      <td>0</td>\n",
       "      <td>0</td>\n",
       "      <td>0</td>\n",
       "      <td>0</td>\n",
       "    </tr>\n",
       "    <tr>\n",
       "      <th>...</th>\n",
       "      <td>...</td>\n",
       "      <td>...</td>\n",
       "      <td>...</td>\n",
       "      <td>...</td>\n",
       "      <td>...</td>\n",
       "      <td>...</td>\n",
       "      <td>...</td>\n",
       "      <td>...</td>\n",
       "      <td>...</td>\n",
       "      <td>...</td>\n",
       "      <td>...</td>\n",
       "      <td>...</td>\n",
       "      <td>...</td>\n",
       "      <td>...</td>\n",
       "      <td>...</td>\n",
       "      <td>...</td>\n",
       "      <td>...</td>\n",
       "      <td>...</td>\n",
       "      <td>...</td>\n",
       "      <td>...</td>\n",
       "      <td>...</td>\n",
       "    </tr>\n",
       "    <tr>\n",
       "      <th>11299</th>\n",
       "      <td>2020-12-06</td>\n",
       "      <td>8</td>\n",
       "      <td>4</td>\n",
       "      <td>1</td>\n",
       "      <td>1</td>\n",
       "      <td>2</td>\n",
       "      <td>2</td>\n",
       "      <td>0</td>\n",
       "      <td>0</td>\n",
       "      <td>0</td>\n",
       "      <td>...</td>\n",
       "      <td>0</td>\n",
       "      <td>0</td>\n",
       "      <td>0</td>\n",
       "      <td>0</td>\n",
       "      <td>0</td>\n",
       "      <td>0</td>\n",
       "      <td>0</td>\n",
       "      <td>1</td>\n",
       "      <td>0</td>\n",
       "      <td>0</td>\n",
       "    </tr>\n",
       "    <tr>\n",
       "      <th>11300</th>\n",
       "      <td>2020-12-07</td>\n",
       "      <td>12</td>\n",
       "      <td>7</td>\n",
       "      <td>1</td>\n",
       "      <td>1</td>\n",
       "      <td>2</td>\n",
       "      <td>3</td>\n",
       "      <td>0</td>\n",
       "      <td>0</td>\n",
       "      <td>1</td>\n",
       "      <td>...</td>\n",
       "      <td>0</td>\n",
       "      <td>0</td>\n",
       "      <td>0</td>\n",
       "      <td>0</td>\n",
       "      <td>0</td>\n",
       "      <td>0</td>\n",
       "      <td>0</td>\n",
       "      <td>0</td>\n",
       "      <td>1</td>\n",
       "      <td>0</td>\n",
       "    </tr>\n",
       "    <tr>\n",
       "      <th>11301</th>\n",
       "      <td>2020-12-08</td>\n",
       "      <td>15</td>\n",
       "      <td>8</td>\n",
       "      <td>2</td>\n",
       "      <td>2</td>\n",
       "      <td>2</td>\n",
       "      <td>4</td>\n",
       "      <td>0</td>\n",
       "      <td>0</td>\n",
       "      <td>0</td>\n",
       "      <td>...</td>\n",
       "      <td>0</td>\n",
       "      <td>0</td>\n",
       "      <td>0</td>\n",
       "      <td>0</td>\n",
       "      <td>0</td>\n",
       "      <td>0</td>\n",
       "      <td>0</td>\n",
       "      <td>0</td>\n",
       "      <td>1</td>\n",
       "      <td>0</td>\n",
       "    </tr>\n",
       "    <tr>\n",
       "      <th>11302</th>\n",
       "      <td>2020-12-09</td>\n",
       "      <td>6</td>\n",
       "      <td>3</td>\n",
       "      <td>2</td>\n",
       "      <td>2</td>\n",
       "      <td>2</td>\n",
       "      <td>2</td>\n",
       "      <td>0</td>\n",
       "      <td>0</td>\n",
       "      <td>0</td>\n",
       "      <td>...</td>\n",
       "      <td>0</td>\n",
       "      <td>0</td>\n",
       "      <td>0</td>\n",
       "      <td>0</td>\n",
       "      <td>0</td>\n",
       "      <td>0</td>\n",
       "      <td>0</td>\n",
       "      <td>0</td>\n",
       "      <td>1</td>\n",
       "      <td>0</td>\n",
       "    </tr>\n",
       "    <tr>\n",
       "      <th>11303</th>\n",
       "      <td>2020-12-10</td>\n",
       "      <td>3</td>\n",
       "      <td>2</td>\n",
       "      <td>3</td>\n",
       "      <td>3</td>\n",
       "      <td>2</td>\n",
       "      <td>2</td>\n",
       "      <td>0</td>\n",
       "      <td>0</td>\n",
       "      <td>0</td>\n",
       "      <td>...</td>\n",
       "      <td>0</td>\n",
       "      <td>0</td>\n",
       "      <td>0</td>\n",
       "      <td>0</td>\n",
       "      <td>0</td>\n",
       "      <td>0</td>\n",
       "      <td>0</td>\n",
       "      <td>0</td>\n",
       "      <td>1</td>\n",
       "      <td>0</td>\n",
       "    </tr>\n",
       "  </tbody>\n",
       "</table>\n",
       "<p>11304 rows × 34 columns</p>\n",
       "</div>"
      ],
      "text/plain": [
       "            date  northshore wh  west side wh  southshore wh  diamond head wh  \\\n",
       "0     1990-01-01              5             2              1                1   \n",
       "1     1990-01-02              4             2              1                1   \n",
       "2     1990-01-03              8             4              2                2   \n",
       "3     1990-01-04              5             4              1                2   \n",
       "4     1990-01-05              6             4              1                2   \n",
       "...          ...            ...           ...            ...              ...   \n",
       "11299 2020-12-06              8             4              1                1   \n",
       "11300 2020-12-07             12             7              1                1   \n",
       "11301 2020-12-08             15             8              2                2   \n",
       "11302 2020-12-09              6             3              2                2   \n",
       "11303 2020-12-10              3             2              3                3   \n",
       "\n",
       "       east side wh  wspd  wdir_2.0  wdir_3.0  wdir_4.0  ...  wdir_2.0  \\\n",
       "0                 6     6         0         1         0  ...         0   \n",
       "1                 5     5         0         1         0  ...         0   \n",
       "2                 5     5         0         1         0  ...         0   \n",
       "3                 5     5         0         1         0  ...         0   \n",
       "4                 5     6         0         1         0  ...         0   \n",
       "...             ...   ...       ...       ...       ...  ...       ...   \n",
       "11299             2     2         0         0         0  ...         0   \n",
       "11300             2     3         0         0         1  ...         0   \n",
       "11301             2     4         0         0         0  ...         0   \n",
       "11302             2     2         0         0         0  ...         0   \n",
       "11303             2     2         0         0         0  ...         0   \n",
       "\n",
       "       wdir_3.0  wdir_4.0  wdir_5.0  wdir_10.0  wdir_13.0  wdir_14.0  \\\n",
       "0             0         0         0          0          0          0   \n",
       "1             0         0         0          0          0          0   \n",
       "2             0         0         0          0          0          0   \n",
       "3             0         0         0          0          0          0   \n",
       "4             0         0         0          0          0          0   \n",
       "...         ...       ...       ...        ...        ...        ...   \n",
       "11299         0         0         0          0          0          0   \n",
       "11300         0         0         0          0          0          0   \n",
       "11301         0         0         0          0          0          0   \n",
       "11302         0         0         0          0          0          0   \n",
       "11303         0         0         0          0          0          0   \n",
       "\n",
       "       wdir_15.0  wdir_16.0  wdir_18.0  \n",
       "0              0          0          0  \n",
       "1              0          0          0  \n",
       "2              0          0          0  \n",
       "3              0          0          0  \n",
       "4              0          0          0  \n",
       "...          ...        ...        ...  \n",
       "11299          1          0          0  \n",
       "11300          0          1          0  \n",
       "11301          0          1          0  \n",
       "11302          0          1          0  \n",
       "11303          0          1          0  \n",
       "\n",
       "[11304 rows x 34 columns]"
      ]
     },
     "execution_count": 12,
     "metadata": {},
     "output_type": "execute_result"
    }
   ],
   "source": [
    "dffe = speedclean(df)\n",
    "dffe"
   ]
  },
  {
   "cell_type": "markdown",
   "id": "cd39aa63-0ae2-40d2-9d64-bf709cd76002",
   "metadata": {},
   "source": [
    "#### 2.4 Handeling nsd nulls"
   ]
  },
  {
   "cell_type": "code",
   "execution_count": 13,
   "id": "767460aa-4d4a-4111-9ba2-51ea0f673474",
   "metadata": {
    "tags": []
   },
   "outputs": [
    {
     "data": {
      "text/html": [
       "<div>\n",
       "<style scoped>\n",
       "    .dataframe tbody tr th:only-of-type {\n",
       "        vertical-align: middle;\n",
       "    }\n",
       "\n",
       "    .dataframe tbody tr th {\n",
       "        vertical-align: top;\n",
       "    }\n",
       "\n",
       "    .dataframe thead th {\n",
       "        text-align: right;\n",
       "    }\n",
       "</style>\n",
       "<table border=\"1\" class=\"dataframe\">\n",
       "  <thead>\n",
       "    <tr style=\"text-align: right;\">\n",
       "      <th></th>\n",
       "      <th>northshore wh</th>\n",
       "      <th>west side wh</th>\n",
       "      <th>southshore wh</th>\n",
       "      <th>diamond head wh</th>\n",
       "      <th>east side wh</th>\n",
       "      <th>wspd</th>\n",
       "      <th>wdir</th>\n",
       "      <th>nsd</th>\n",
       "    </tr>\n",
       "  </thead>\n",
       "  <tbody>\n",
       "    <tr>\n",
       "      <th>0</th>\n",
       "      <td>5</td>\n",
       "      <td>2</td>\n",
       "      <td>1</td>\n",
       "      <td>1</td>\n",
       "      <td>6</td>\n",
       "      <td>6</td>\n",
       "      <td>3.0</td>\n",
       "      <td>NaN</td>\n",
       "    </tr>\n",
       "    <tr>\n",
       "      <th>1</th>\n",
       "      <td>4</td>\n",
       "      <td>2</td>\n",
       "      <td>1</td>\n",
       "      <td>1</td>\n",
       "      <td>5</td>\n",
       "      <td>5</td>\n",
       "      <td>3.0</td>\n",
       "      <td>NaN</td>\n",
       "    </tr>\n",
       "    <tr>\n",
       "      <th>2</th>\n",
       "      <td>8</td>\n",
       "      <td>4</td>\n",
       "      <td>2</td>\n",
       "      <td>2</td>\n",
       "      <td>5</td>\n",
       "      <td>5</td>\n",
       "      <td>3.0</td>\n",
       "      <td>NaN</td>\n",
       "    </tr>\n",
       "    <tr>\n",
       "      <th>3</th>\n",
       "      <td>5</td>\n",
       "      <td>4</td>\n",
       "      <td>1</td>\n",
       "      <td>2</td>\n",
       "      <td>5</td>\n",
       "      <td>5</td>\n",
       "      <td>3.0</td>\n",
       "      <td>NaN</td>\n",
       "    </tr>\n",
       "    <tr>\n",
       "      <th>4</th>\n",
       "      <td>6</td>\n",
       "      <td>4</td>\n",
       "      <td>1</td>\n",
       "      <td>2</td>\n",
       "      <td>5</td>\n",
       "      <td>6</td>\n",
       "      <td>3.0</td>\n",
       "      <td>NaN</td>\n",
       "    </tr>\n",
       "    <tr>\n",
       "      <th>...</th>\n",
       "      <td>...</td>\n",
       "      <td>...</td>\n",
       "      <td>...</td>\n",
       "      <td>...</td>\n",
       "      <td>...</td>\n",
       "      <td>...</td>\n",
       "      <td>...</td>\n",
       "      <td>...</td>\n",
       "    </tr>\n",
       "    <tr>\n",
       "      <th>11299</th>\n",
       "      <td>8</td>\n",
       "      <td>4</td>\n",
       "      <td>1</td>\n",
       "      <td>1</td>\n",
       "      <td>2</td>\n",
       "      <td>2</td>\n",
       "      <td>17.0</td>\n",
       "      <td>15.0</td>\n",
       "    </tr>\n",
       "    <tr>\n",
       "      <th>11300</th>\n",
       "      <td>12</td>\n",
       "      <td>7</td>\n",
       "      <td>1</td>\n",
       "      <td>1</td>\n",
       "      <td>2</td>\n",
       "      <td>3</td>\n",
       "      <td>4.0</td>\n",
       "      <td>16.0</td>\n",
       "    </tr>\n",
       "    <tr>\n",
       "      <th>11301</th>\n",
       "      <td>15</td>\n",
       "      <td>8</td>\n",
       "      <td>2</td>\n",
       "      <td>2</td>\n",
       "      <td>2</td>\n",
       "      <td>4</td>\n",
       "      <td>5.0</td>\n",
       "      <td>16.0</td>\n",
       "    </tr>\n",
       "    <tr>\n",
       "      <th>11302</th>\n",
       "      <td>6</td>\n",
       "      <td>3</td>\n",
       "      <td>2</td>\n",
       "      <td>2</td>\n",
       "      <td>2</td>\n",
       "      <td>2</td>\n",
       "      <td>17.0</td>\n",
       "      <td>16.0</td>\n",
       "    </tr>\n",
       "    <tr>\n",
       "      <th>11303</th>\n",
       "      <td>3</td>\n",
       "      <td>2</td>\n",
       "      <td>3</td>\n",
       "      <td>3</td>\n",
       "      <td>2</td>\n",
       "      <td>2</td>\n",
       "      <td>17.0</td>\n",
       "      <td>16.0</td>\n",
       "    </tr>\n",
       "  </tbody>\n",
       "</table>\n",
       "<p>11304 rows × 8 columns</p>\n",
       "</div>"
      ],
      "text/plain": [
       "       northshore wh  west side wh  southshore wh  diamond head wh  \\\n",
       "0                  5             2              1                1   \n",
       "1                  4             2              1                1   \n",
       "2                  8             4              2                2   \n",
       "3                  5             4              1                2   \n",
       "4                  6             4              1                2   \n",
       "...              ...           ...            ...              ...   \n",
       "11299              8             4              1                1   \n",
       "11300             12             7              1                1   \n",
       "11301             15             8              2                2   \n",
       "11302              6             3              2                2   \n",
       "11303              3             2              3                3   \n",
       "\n",
       "       east side wh  wspd  wdir   nsd  \n",
       "0                 6     6   3.0   NaN  \n",
       "1                 5     5   3.0   NaN  \n",
       "2                 5     5   3.0   NaN  \n",
       "3                 5     5   3.0   NaN  \n",
       "4                 5     6   3.0   NaN  \n",
       "...             ...   ...   ...   ...  \n",
       "11299             2     2  17.0  15.0  \n",
       "11300             2     3   4.0  16.0  \n",
       "11301             2     4   5.0  16.0  \n",
       "11302             2     2  17.0  16.0  \n",
       "11303             2     2  17.0  16.0  \n",
       "\n",
       "[11304 rows x 8 columns]"
      ]
     },
     "execution_count": 13,
     "metadata": {},
     "output_type": "execute_result"
    }
   ],
   "source": [
    "nodate = df.drop('date', axis = 1).copy()\n",
    "nodate"
   ]
  },
  {
   "cell_type": "code",
   "execution_count": 14,
   "id": "1cb3a1ee-99af-4662-82e6-880c71cd672e",
   "metadata": {
    "tags": []
   },
   "outputs": [
    {
     "data": {
      "text/html": [
       "<div>\n",
       "<style scoped>\n",
       "    .dataframe tbody tr th:only-of-type {\n",
       "        vertical-align: middle;\n",
       "    }\n",
       "\n",
       "    .dataframe tbody tr th {\n",
       "        vertical-align: top;\n",
       "    }\n",
       "\n",
       "    .dataframe thead th {\n",
       "        text-align: right;\n",
       "    }\n",
       "</style>\n",
       "<table border=\"1\" class=\"dataframe\">\n",
       "  <thead>\n",
       "    <tr style=\"text-align: right;\">\n",
       "      <th></th>\n",
       "      <th>northshore wh</th>\n",
       "      <th>west side wh</th>\n",
       "      <th>southshore wh</th>\n",
       "      <th>diamond head wh</th>\n",
       "      <th>east side wh</th>\n",
       "      <th>wspd</th>\n",
       "      <th>nsd</th>\n",
       "      <th>wdir_2.0</th>\n",
       "      <th>wdir_3.0</th>\n",
       "      <th>wdir_4.0</th>\n",
       "      <th>...</th>\n",
       "      <th>wdir_9.0</th>\n",
       "      <th>wdir_10.0</th>\n",
       "      <th>wdir_11.0</th>\n",
       "      <th>wdir_12.0</th>\n",
       "      <th>wdir_13.0</th>\n",
       "      <th>wdir_14.0</th>\n",
       "      <th>wdir_15.0</th>\n",
       "      <th>wdir_16.0</th>\n",
       "      <th>wdir_17.0</th>\n",
       "      <th>wdir_18.0</th>\n",
       "    </tr>\n",
       "  </thead>\n",
       "  <tbody>\n",
       "    <tr>\n",
       "      <th>0</th>\n",
       "      <td>5</td>\n",
       "      <td>2</td>\n",
       "      <td>1</td>\n",
       "      <td>1</td>\n",
       "      <td>6</td>\n",
       "      <td>6</td>\n",
       "      <td>NaN</td>\n",
       "      <td>0</td>\n",
       "      <td>1</td>\n",
       "      <td>0</td>\n",
       "      <td>...</td>\n",
       "      <td>0</td>\n",
       "      <td>0</td>\n",
       "      <td>0</td>\n",
       "      <td>0</td>\n",
       "      <td>0</td>\n",
       "      <td>0</td>\n",
       "      <td>0</td>\n",
       "      <td>0</td>\n",
       "      <td>0</td>\n",
       "      <td>0</td>\n",
       "    </tr>\n",
       "    <tr>\n",
       "      <th>1</th>\n",
       "      <td>4</td>\n",
       "      <td>2</td>\n",
       "      <td>1</td>\n",
       "      <td>1</td>\n",
       "      <td>5</td>\n",
       "      <td>5</td>\n",
       "      <td>NaN</td>\n",
       "      <td>0</td>\n",
       "      <td>1</td>\n",
       "      <td>0</td>\n",
       "      <td>...</td>\n",
       "      <td>0</td>\n",
       "      <td>0</td>\n",
       "      <td>0</td>\n",
       "      <td>0</td>\n",
       "      <td>0</td>\n",
       "      <td>0</td>\n",
       "      <td>0</td>\n",
       "      <td>0</td>\n",
       "      <td>0</td>\n",
       "      <td>0</td>\n",
       "    </tr>\n",
       "    <tr>\n",
       "      <th>2</th>\n",
       "      <td>8</td>\n",
       "      <td>4</td>\n",
       "      <td>2</td>\n",
       "      <td>2</td>\n",
       "      <td>5</td>\n",
       "      <td>5</td>\n",
       "      <td>NaN</td>\n",
       "      <td>0</td>\n",
       "      <td>1</td>\n",
       "      <td>0</td>\n",
       "      <td>...</td>\n",
       "      <td>0</td>\n",
       "      <td>0</td>\n",
       "      <td>0</td>\n",
       "      <td>0</td>\n",
       "      <td>0</td>\n",
       "      <td>0</td>\n",
       "      <td>0</td>\n",
       "      <td>0</td>\n",
       "      <td>0</td>\n",
       "      <td>0</td>\n",
       "    </tr>\n",
       "    <tr>\n",
       "      <th>3</th>\n",
       "      <td>5</td>\n",
       "      <td>4</td>\n",
       "      <td>1</td>\n",
       "      <td>2</td>\n",
       "      <td>5</td>\n",
       "      <td>5</td>\n",
       "      <td>NaN</td>\n",
       "      <td>0</td>\n",
       "      <td>1</td>\n",
       "      <td>0</td>\n",
       "      <td>...</td>\n",
       "      <td>0</td>\n",
       "      <td>0</td>\n",
       "      <td>0</td>\n",
       "      <td>0</td>\n",
       "      <td>0</td>\n",
       "      <td>0</td>\n",
       "      <td>0</td>\n",
       "      <td>0</td>\n",
       "      <td>0</td>\n",
       "      <td>0</td>\n",
       "    </tr>\n",
       "    <tr>\n",
       "      <th>4</th>\n",
       "      <td>6</td>\n",
       "      <td>4</td>\n",
       "      <td>1</td>\n",
       "      <td>2</td>\n",
       "      <td>5</td>\n",
       "      <td>6</td>\n",
       "      <td>NaN</td>\n",
       "      <td>0</td>\n",
       "      <td>1</td>\n",
       "      <td>0</td>\n",
       "      <td>...</td>\n",
       "      <td>0</td>\n",
       "      <td>0</td>\n",
       "      <td>0</td>\n",
       "      <td>0</td>\n",
       "      <td>0</td>\n",
       "      <td>0</td>\n",
       "      <td>0</td>\n",
       "      <td>0</td>\n",
       "      <td>0</td>\n",
       "      <td>0</td>\n",
       "    </tr>\n",
       "    <tr>\n",
       "      <th>...</th>\n",
       "      <td>...</td>\n",
       "      <td>...</td>\n",
       "      <td>...</td>\n",
       "      <td>...</td>\n",
       "      <td>...</td>\n",
       "      <td>...</td>\n",
       "      <td>...</td>\n",
       "      <td>...</td>\n",
       "      <td>...</td>\n",
       "      <td>...</td>\n",
       "      <td>...</td>\n",
       "      <td>...</td>\n",
       "      <td>...</td>\n",
       "      <td>...</td>\n",
       "      <td>...</td>\n",
       "      <td>...</td>\n",
       "      <td>...</td>\n",
       "      <td>...</td>\n",
       "      <td>...</td>\n",
       "      <td>...</td>\n",
       "      <td>...</td>\n",
       "    </tr>\n",
       "    <tr>\n",
       "      <th>11299</th>\n",
       "      <td>8</td>\n",
       "      <td>4</td>\n",
       "      <td>1</td>\n",
       "      <td>1</td>\n",
       "      <td>2</td>\n",
       "      <td>2</td>\n",
       "      <td>15.0</td>\n",
       "      <td>0</td>\n",
       "      <td>0</td>\n",
       "      <td>0</td>\n",
       "      <td>...</td>\n",
       "      <td>0</td>\n",
       "      <td>0</td>\n",
       "      <td>0</td>\n",
       "      <td>0</td>\n",
       "      <td>0</td>\n",
       "      <td>0</td>\n",
       "      <td>0</td>\n",
       "      <td>0</td>\n",
       "      <td>1</td>\n",
       "      <td>0</td>\n",
       "    </tr>\n",
       "    <tr>\n",
       "      <th>11300</th>\n",
       "      <td>12</td>\n",
       "      <td>7</td>\n",
       "      <td>1</td>\n",
       "      <td>1</td>\n",
       "      <td>2</td>\n",
       "      <td>3</td>\n",
       "      <td>16.0</td>\n",
       "      <td>0</td>\n",
       "      <td>0</td>\n",
       "      <td>1</td>\n",
       "      <td>...</td>\n",
       "      <td>0</td>\n",
       "      <td>0</td>\n",
       "      <td>0</td>\n",
       "      <td>0</td>\n",
       "      <td>0</td>\n",
       "      <td>0</td>\n",
       "      <td>0</td>\n",
       "      <td>0</td>\n",
       "      <td>0</td>\n",
       "      <td>0</td>\n",
       "    </tr>\n",
       "    <tr>\n",
       "      <th>11301</th>\n",
       "      <td>15</td>\n",
       "      <td>8</td>\n",
       "      <td>2</td>\n",
       "      <td>2</td>\n",
       "      <td>2</td>\n",
       "      <td>4</td>\n",
       "      <td>16.0</td>\n",
       "      <td>0</td>\n",
       "      <td>0</td>\n",
       "      <td>0</td>\n",
       "      <td>...</td>\n",
       "      <td>0</td>\n",
       "      <td>0</td>\n",
       "      <td>0</td>\n",
       "      <td>0</td>\n",
       "      <td>0</td>\n",
       "      <td>0</td>\n",
       "      <td>0</td>\n",
       "      <td>0</td>\n",
       "      <td>0</td>\n",
       "      <td>0</td>\n",
       "    </tr>\n",
       "    <tr>\n",
       "      <th>11302</th>\n",
       "      <td>6</td>\n",
       "      <td>3</td>\n",
       "      <td>2</td>\n",
       "      <td>2</td>\n",
       "      <td>2</td>\n",
       "      <td>2</td>\n",
       "      <td>16.0</td>\n",
       "      <td>0</td>\n",
       "      <td>0</td>\n",
       "      <td>0</td>\n",
       "      <td>...</td>\n",
       "      <td>0</td>\n",
       "      <td>0</td>\n",
       "      <td>0</td>\n",
       "      <td>0</td>\n",
       "      <td>0</td>\n",
       "      <td>0</td>\n",
       "      <td>0</td>\n",
       "      <td>0</td>\n",
       "      <td>1</td>\n",
       "      <td>0</td>\n",
       "    </tr>\n",
       "    <tr>\n",
       "      <th>11303</th>\n",
       "      <td>3</td>\n",
       "      <td>2</td>\n",
       "      <td>3</td>\n",
       "      <td>3</td>\n",
       "      <td>2</td>\n",
       "      <td>2</td>\n",
       "      <td>16.0</td>\n",
       "      <td>0</td>\n",
       "      <td>0</td>\n",
       "      <td>0</td>\n",
       "      <td>...</td>\n",
       "      <td>0</td>\n",
       "      <td>0</td>\n",
       "      <td>0</td>\n",
       "      <td>0</td>\n",
       "      <td>0</td>\n",
       "      <td>0</td>\n",
       "      <td>0</td>\n",
       "      <td>0</td>\n",
       "      <td>1</td>\n",
       "      <td>0</td>\n",
       "    </tr>\n",
       "  </tbody>\n",
       "</table>\n",
       "<p>11304 rows × 24 columns</p>\n",
       "</div>"
      ],
      "text/plain": [
       "       northshore wh  west side wh  southshore wh  diamond head wh  \\\n",
       "0                  5             2              1                1   \n",
       "1                  4             2              1                1   \n",
       "2                  8             4              2                2   \n",
       "3                  5             4              1                2   \n",
       "4                  6             4              1                2   \n",
       "...              ...           ...            ...              ...   \n",
       "11299              8             4              1                1   \n",
       "11300             12             7              1                1   \n",
       "11301             15             8              2                2   \n",
       "11302              6             3              2                2   \n",
       "11303              3             2              3                3   \n",
       "\n",
       "       east side wh  wspd   nsd  wdir_2.0  wdir_3.0  wdir_4.0  ...  wdir_9.0  \\\n",
       "0                 6     6   NaN         0         1         0  ...         0   \n",
       "1                 5     5   NaN         0         1         0  ...         0   \n",
       "2                 5     5   NaN         0         1         0  ...         0   \n",
       "3                 5     5   NaN         0         1         0  ...         0   \n",
       "4                 5     6   NaN         0         1         0  ...         0   \n",
       "...             ...   ...   ...       ...       ...       ...  ...       ...   \n",
       "11299             2     2  15.0         0         0         0  ...         0   \n",
       "11300             2     3  16.0         0         0         1  ...         0   \n",
       "11301             2     4  16.0         0         0         0  ...         0   \n",
       "11302             2     2  16.0         0         0         0  ...         0   \n",
       "11303             2     2  16.0         0         0         0  ...         0   \n",
       "\n",
       "       wdir_10.0  wdir_11.0  wdir_12.0  wdir_13.0  wdir_14.0  wdir_15.0  \\\n",
       "0              0          0          0          0          0          0   \n",
       "1              0          0          0          0          0          0   \n",
       "2              0          0          0          0          0          0   \n",
       "3              0          0          0          0          0          0   \n",
       "4              0          0          0          0          0          0   \n",
       "...          ...        ...        ...        ...        ...        ...   \n",
       "11299          0          0          0          0          0          0   \n",
       "11300          0          0          0          0          0          0   \n",
       "11301          0          0          0          0          0          0   \n",
       "11302          0          0          0          0          0          0   \n",
       "11303          0          0          0          0          0          0   \n",
       "\n",
       "       wdir_16.0  wdir_17.0  wdir_18.0  \n",
       "0              0          0          0  \n",
       "1              0          0          0  \n",
       "2              0          0          0  \n",
       "3              0          0          0  \n",
       "4              0          0          0  \n",
       "...          ...        ...        ...  \n",
       "11299          0          1          0  \n",
       "11300          0          0          0  \n",
       "11301          0          0          0  \n",
       "11302          0          1          0  \n",
       "11303          0          1          0  \n",
       "\n",
       "[11304 rows x 24 columns]"
      ]
     },
     "execution_count": 14,
     "metadata": {},
     "output_type": "execute_result"
    }
   ],
   "source": [
    "nodate =  pd.get_dummies(nodate, columns = ['wdir'], prefix = 'wdir', drop_first = True, dtype = int)\n",
    "nodate"
   ]
  },
  {
   "cell_type": "code",
   "execution_count": 15,
   "id": "cc6ce42a-2d02-4713-b845-b33e7d7d75e7",
   "metadata": {
    "tags": []
   },
   "outputs": [],
   "source": [
    "X_train = nodate[nodate['nsd'].notnull()].drop('nsd', axis = 1)\n",
    "X_train;"
   ]
  },
  {
   "cell_type": "code",
   "execution_count": 16,
   "id": "6624aeb6-8694-4ed1-9203-6e4a190b1a62",
   "metadata": {
    "tags": []
   },
   "outputs": [],
   "source": [
    "X_test = nodate[df['nsd'].isnull()].drop('nsd', axis = 1)\n",
    "X_test;"
   ]
  },
  {
   "cell_type": "code",
   "execution_count": 17,
   "id": "55105c0e-e5c9-4a71-805b-5444d1e00d28",
   "metadata": {
    "tags": []
   },
   "outputs": [],
   "source": [
    "y_train = nodate['nsd'][nodate['nsd'].notnull()]\n",
    "y_train;"
   ]
  },
  {
   "cell_type": "code",
   "execution_count": 18,
   "id": "f2fd064d-9f9f-400b-9ec9-5446abb7b87e",
   "metadata": {
    "tags": []
   },
   "outputs": [],
   "source": [
    "y_test = nodate['nsd'][nodate['nsd'].isnull()]\n",
    "y_test;"
   ]
  },
  {
   "cell_type": "code",
   "execution_count": 19,
   "id": "9804d853-dda2-41f6-b6a3-73a19898283d",
   "metadata": {
    "tags": []
   },
   "outputs": [],
   "source": [
    "# grid = GridSearchCV(estimator = DecisionTreeClassifier(),  # what is the model\n",
    "#                     param_grid = {'max_depth': [3, 5, 7, 10], #\n",
    "#                                   'min_samples_split': [5, 10, 15, 20, 50, 100], #how many samples to make a split\n",
    "#                                   'min_samples_leaf': [2, 3, 4, 5, 6, 7], # how many samples to make a leaf \n",
    "#                                   'max_features':[2,5]}, # How many parameters can I use \n",
    "#                     cv = 10,  ## How many splits\n",
    "#                     refit = True,  ## Do we r3efit the data on each run?\n",
    "#                     verbose = 1,  ## How much to tell us\n",
    "#                     scoring = 'accuracy')  ## Which metric am I maximising"
   ]
  },
  {
   "cell_type": "code",
   "execution_count": 20,
   "id": "3746626d-80b7-4c3e-9229-58ce3338c746",
   "metadata": {
    "tags": []
   },
   "outputs": [],
   "source": [
    "# now = time()\n",
    "\n",
    "# grid.fit(X_train, y_train)\n",
    "\n",
    "# print(f' Time in seconds: {time() - now}')\n"
   ]
  },
  {
   "cell_type": "code",
   "execution_count": 21,
   "id": "4ab273b5-80c7-48ac-8ddf-f9ca917e84d6",
   "metadata": {
    "tags": []
   },
   "outputs": [],
   "source": [
    "# grid.best_params_"
   ]
  },
  {
   "cell_type": "code",
   "execution_count": 22,
   "id": "2d31f7a6-3d3e-4112-858f-083687df5618",
   "metadata": {
    "tags": []
   },
   "outputs": [],
   "source": [
    "# grid.best_score_"
   ]
  },
  {
   "cell_type": "code",
   "execution_count": 23,
   "id": "2c0fc6ae-c682-449a-b5a9-4caaad361f8c",
   "metadata": {
    "tags": []
   },
   "outputs": [],
   "source": [
    "dt = DecisionTreeClassifier(max_depth = 10,\n",
    "                           max_features = 5,\n",
    "                           min_samples_leaf = 4,\n",
    "                           min_samples_split = 20)"
   ]
  },
  {
   "cell_type": "code",
   "execution_count": 24,
   "id": "da3f25a1-d3af-45f1-8125-4ad38cec29be",
   "metadata": {
    "tags": []
   },
   "outputs": [],
   "source": [
    "model = dt.fit(X_train, y_train)"
   ]
  },
  {
   "cell_type": "code",
   "execution_count": 25,
   "id": "d2258980-281a-4194-9944-10543ea94247",
   "metadata": {
    "tags": []
   },
   "outputs": [
    {
     "name": "stdout",
     "output_type": "stream",
     "text": [
      "Score on training set: 0.4267148981779207\n"
     ]
    }
   ],
   "source": [
    "print(f'Score on training set: {dt.score(X_train, y_train)}')"
   ]
  },
  {
   "cell_type": "code",
   "execution_count": 26,
   "id": "f724c2be-5197-4d0b-8ace-001ce1e38561",
   "metadata": {
    "tags": []
   },
   "outputs": [],
   "source": [
    "# plt.figure(figsize=(20,20))\n",
    "# tree.plot_tree(dt, ##  decision tree classifier \n",
    "#                    filled=True)  ## just for aesthetics \n",
    "# plt.show()"
   ]
  },
  {
   "cell_type": "code",
   "execution_count": 27,
   "id": "ef80594d-f1be-4f32-a388-f5bc9a4723e1",
   "metadata": {
    "tags": []
   },
   "outputs": [],
   "source": [
    "y_predicted = dt.predict(X_test)"
   ]
  },
  {
   "cell_type": "code",
   "execution_count": 28,
   "id": "a4b86c06-0441-405c-aaa3-51b2c7d1a094",
   "metadata": {
    "tags": []
   },
   "outputs": [],
   "source": [
    "null_indices = df['nsd'].isnull()"
   ]
  },
  {
   "cell_type": "code",
   "execution_count": 29,
   "id": "2aa799b8-f243-4180-90cd-ab255e5be4e9",
   "metadata": {
    "tags": []
   },
   "outputs": [],
   "source": [
    "df.loc[null_indices, 'nsd'] = y_predicted"
   ]
  },
  {
   "cell_type": "code",
   "execution_count": 30,
   "id": "56412ae1-f586-45ef-a623-ec7e8f1f2862",
   "metadata": {
    "tags": []
   },
   "outputs": [],
   "source": [
    "nodate.loc[null_indices, 'nsd'] = y_predicted"
   ]
  },
  {
   "cell_type": "code",
   "execution_count": 31,
   "id": "f9155d27-cc42-4eda-a4fe-c3011c63cb01",
   "metadata": {
    "tags": []
   },
   "outputs": [
    {
     "data": {
      "text/plain": [
       "date                 0\n",
       "northshore wh        0\n",
       "west side wh         0\n",
       "southshore wh        0\n",
       "diamond head wh      0\n",
       "east side wh         0\n",
       "wspd                 0\n",
       "wdir               119\n",
       "nsd                  0\n",
       "dtype: int64"
      ]
     },
     "execution_count": 31,
     "metadata": {},
     "output_type": "execute_result"
    }
   ],
   "source": [
    "df.isnull().sum()"
   ]
  },
  {
   "cell_type": "markdown",
   "id": "db61ecbb-7a8a-409b-92fa-c3147938f0a0",
   "metadata": {},
   "source": [
    "#### 2.5 Handling wind direction nulls"
   ]
  },
  {
   "cell_type": "code",
   "execution_count": 32,
   "id": "26b19c04-50da-4101-aecb-ef2ec0e10c3a",
   "metadata": {
    "tags": []
   },
   "outputs": [],
   "source": [
    "nodate2 = df.drop('date', axis = 1).copy()\n",
    "nodate2 = pd.get_dummies(nodate2, columns = ['nsd'], prefix = 'nsd', drop_first = True, dtype = int)"
   ]
  },
  {
   "cell_type": "code",
   "execution_count": 33,
   "id": "785cea20-63c3-4535-b613-30c279aec830",
   "metadata": {
    "tags": []
   },
   "outputs": [],
   "source": [
    "X_train2 = nodate2[nodate2['wdir'].notnull()].drop('wdir', axis = 1)\n",
    "X_train2;"
   ]
  },
  {
   "cell_type": "code",
   "execution_count": 34,
   "id": "f3465f21-ae96-487b-aeca-6b48a20d106a",
   "metadata": {
    "tags": []
   },
   "outputs": [],
   "source": [
    "X_test2 = nodate2[nodate2['wdir'].isnull()].drop('wdir', axis = 1)\n",
    "X_test2;"
   ]
  },
  {
   "cell_type": "code",
   "execution_count": 35,
   "id": "5aa2bcfa-ab1f-45f6-991b-44966d2b60fd",
   "metadata": {
    "tags": []
   },
   "outputs": [],
   "source": [
    "y_train2 = nodate2['wdir'][nodate2['wdir'].notnull()]\n",
    "y_train;"
   ]
  },
  {
   "cell_type": "code",
   "execution_count": 36,
   "id": "6bed4aad-9fe0-4bb4-b1e6-ac352d59c723",
   "metadata": {
    "tags": []
   },
   "outputs": [],
   "source": [
    "y_test2 = nodate2['wdir'][nodate2['wdir'].isnull()]\n",
    "y_test2;"
   ]
  },
  {
   "cell_type": "code",
   "execution_count": 37,
   "id": "ff9c4bf5-df26-45be-8f4a-2be4d927456f",
   "metadata": {
    "tags": []
   },
   "outputs": [],
   "source": [
    "# grid = GridSearchCV(estimator = DecisionTreeClassifier(),  # what is the model\n",
    "#                     param_grid = {'max_depth': [3, 5, 7, 10], #\n",
    "#                                   'min_samples_split': [5, 10, 15, 20, 50, 100], #how many samples to make a split\n",
    "#                                   'min_samples_leaf': [2, 3, 4, 5, 6, 7], # how many samples to make a leaf \n",
    "#                                   'max_features':[2,5]}, # How many parameters can I use \n",
    "#                     cv = 10,  ## How many splits\n",
    "#                     refit = True,  ## Do we r3efit the data on each run?\n",
    "#                     verbose = 1,  ## How much to tell us\n",
    "#                     scoring = 'accuracy')  ## Which metric am I maximising"
   ]
  },
  {
   "cell_type": "code",
   "execution_count": 38,
   "id": "118d62f4-4d19-4fad-a883-77569b4a7c31",
   "metadata": {
    "tags": []
   },
   "outputs": [],
   "source": [
    "# now = time()\n",
    "\n",
    "# grid.fit(X_train, y_train)\n",
    "\n",
    "# print(f' Time in seconds: {time() - now}')"
   ]
  },
  {
   "cell_type": "code",
   "execution_count": 39,
   "id": "faa3d0c8-6124-4168-a928-da145eb8b32b",
   "metadata": {
    "tags": []
   },
   "outputs": [],
   "source": [
    "# grid.best_params_"
   ]
  },
  {
   "cell_type": "code",
   "execution_count": 40,
   "id": "83eb2382-e6f0-414f-83f6-5b3ef5f08075",
   "metadata": {
    "tags": []
   },
   "outputs": [],
   "source": [
    "# grid.best_score_"
   ]
  },
  {
   "cell_type": "code",
   "execution_count": 41,
   "id": "60783f38-ceb8-4680-b93a-905bd57d4b74",
   "metadata": {
    "tags": []
   },
   "outputs": [],
   "source": [
    "dt2 = DecisionTreeClassifier(max_depth = 10,\n",
    "                             max_features = 5,\n",
    "                             min_samples_leaf = 4,\n",
    "                             min_samples_split = 100)"
   ]
  },
  {
   "cell_type": "code",
   "execution_count": 42,
   "id": "c25f6356-bee3-43a3-9864-488d25c56801",
   "metadata": {
    "tags": []
   },
   "outputs": [
    {
     "data": {
      "text/html": [
       "<style>#sk-container-id-1 {color: black;}#sk-container-id-1 pre{padding: 0;}#sk-container-id-1 div.sk-toggleable {background-color: white;}#sk-container-id-1 label.sk-toggleable__label {cursor: pointer;display: block;width: 100%;margin-bottom: 0;padding: 0.3em;box-sizing: border-box;text-align: center;}#sk-container-id-1 label.sk-toggleable__label-arrow:before {content: \"▸\";float: left;margin-right: 0.25em;color: #696969;}#sk-container-id-1 label.sk-toggleable__label-arrow:hover:before {color: black;}#sk-container-id-1 div.sk-estimator:hover label.sk-toggleable__label-arrow:before {color: black;}#sk-container-id-1 div.sk-toggleable__content {max-height: 0;max-width: 0;overflow: hidden;text-align: left;background-color: #f0f8ff;}#sk-container-id-1 div.sk-toggleable__content pre {margin: 0.2em;color: black;border-radius: 0.25em;background-color: #f0f8ff;}#sk-container-id-1 input.sk-toggleable__control:checked~div.sk-toggleable__content {max-height: 200px;max-width: 100%;overflow: auto;}#sk-container-id-1 input.sk-toggleable__control:checked~label.sk-toggleable__label-arrow:before {content: \"▾\";}#sk-container-id-1 div.sk-estimator input.sk-toggleable__control:checked~label.sk-toggleable__label {background-color: #d4ebff;}#sk-container-id-1 div.sk-label input.sk-toggleable__control:checked~label.sk-toggleable__label {background-color: #d4ebff;}#sk-container-id-1 input.sk-hidden--visually {border: 0;clip: rect(1px 1px 1px 1px);clip: rect(1px, 1px, 1px, 1px);height: 1px;margin: -1px;overflow: hidden;padding: 0;position: absolute;width: 1px;}#sk-container-id-1 div.sk-estimator {font-family: monospace;background-color: #f0f8ff;border: 1px dotted black;border-radius: 0.25em;box-sizing: border-box;margin-bottom: 0.5em;}#sk-container-id-1 div.sk-estimator:hover {background-color: #d4ebff;}#sk-container-id-1 div.sk-parallel-item::after {content: \"\";width: 100%;border-bottom: 1px solid gray;flex-grow: 1;}#sk-container-id-1 div.sk-label:hover label.sk-toggleable__label {background-color: #d4ebff;}#sk-container-id-1 div.sk-serial::before {content: \"\";position: absolute;border-left: 1px solid gray;box-sizing: border-box;top: 0;bottom: 0;left: 50%;z-index: 0;}#sk-container-id-1 div.sk-serial {display: flex;flex-direction: column;align-items: center;background-color: white;padding-right: 0.2em;padding-left: 0.2em;position: relative;}#sk-container-id-1 div.sk-item {position: relative;z-index: 1;}#sk-container-id-1 div.sk-parallel {display: flex;align-items: stretch;justify-content: center;background-color: white;position: relative;}#sk-container-id-1 div.sk-item::before, #sk-container-id-1 div.sk-parallel-item::before {content: \"\";position: absolute;border-left: 1px solid gray;box-sizing: border-box;top: 0;bottom: 0;left: 50%;z-index: -1;}#sk-container-id-1 div.sk-parallel-item {display: flex;flex-direction: column;z-index: 1;position: relative;background-color: white;}#sk-container-id-1 div.sk-parallel-item:first-child::after {align-self: flex-end;width: 50%;}#sk-container-id-1 div.sk-parallel-item:last-child::after {align-self: flex-start;width: 50%;}#sk-container-id-1 div.sk-parallel-item:only-child::after {width: 0;}#sk-container-id-1 div.sk-dashed-wrapped {border: 1px dashed gray;margin: 0 0.4em 0.5em 0.4em;box-sizing: border-box;padding-bottom: 0.4em;background-color: white;}#sk-container-id-1 div.sk-label label {font-family: monospace;font-weight: bold;display: inline-block;line-height: 1.2em;}#sk-container-id-1 div.sk-label-container {text-align: center;}#sk-container-id-1 div.sk-container {/* jupyter's `normalize.less` sets `[hidden] { display: none; }` but bootstrap.min.css set `[hidden] { display: none !important; }` so we also need the `!important` here to be able to override the default hidden behavior on the sphinx rendered scikit-learn.org. See: https://github.com/scikit-learn/scikit-learn/issues/21755 */display: inline-block !important;position: relative;}#sk-container-id-1 div.sk-text-repr-fallback {display: none;}</style><div id=\"sk-container-id-1\" class=\"sk-top-container\"><div class=\"sk-text-repr-fallback\"><pre>DecisionTreeClassifier(max_depth=10, max_features=5, min_samples_leaf=4,\n",
       "                       min_samples_split=100)</pre><b>In a Jupyter environment, please rerun this cell to show the HTML representation or trust the notebook. <br />On GitHub, the HTML representation is unable to render, please try loading this page with nbviewer.org.</b></div><div class=\"sk-container\" hidden><div class=\"sk-item\"><div class=\"sk-estimator sk-toggleable\"><input class=\"sk-toggleable__control sk-hidden--visually\" id=\"sk-estimator-id-1\" type=\"checkbox\" checked><label for=\"sk-estimator-id-1\" class=\"sk-toggleable__label sk-toggleable__label-arrow\">DecisionTreeClassifier</label><div class=\"sk-toggleable__content\"><pre>DecisionTreeClassifier(max_depth=10, max_features=5, min_samples_leaf=4,\n",
       "                       min_samples_split=100)</pre></div></div></div></div></div>"
      ],
      "text/plain": [
       "DecisionTreeClassifier(max_depth=10, max_features=5, min_samples_leaf=4,\n",
       "                       min_samples_split=100)"
      ]
     },
     "execution_count": 42,
     "metadata": {},
     "output_type": "execute_result"
    }
   ],
   "source": [
    "dt2.fit(X_train2, y_train2)"
   ]
  },
  {
   "cell_type": "code",
   "execution_count": 43,
   "id": "36e6a5ab-5882-4a55-8aa6-081269888727",
   "metadata": {
    "tags": []
   },
   "outputs": [
    {
     "name": "stdout",
     "output_type": "stream",
     "text": [
      "Score on training set: 0.4267148981779207\n"
     ]
    }
   ],
   "source": [
    "print(f'Score on training set: {dt.score(X_train, y_train)}')"
   ]
  },
  {
   "cell_type": "code",
   "execution_count": 44,
   "id": "ce70e082-1e66-4521-b55f-20149877a7ac",
   "metadata": {
    "tags": []
   },
   "outputs": [],
   "source": [
    "y_predicted2 = dt2.predict(X_test2)"
   ]
  },
  {
   "cell_type": "code",
   "execution_count": 45,
   "id": "b803635a-d3eb-4796-b1cd-806fe167dd82",
   "metadata": {
    "tags": []
   },
   "outputs": [],
   "source": [
    "null_indices2 = df['wdir'].isnull()"
   ]
  },
  {
   "cell_type": "code",
   "execution_count": 46,
   "id": "3b2c1d71-0e2d-4f98-97d4-072d97fac665",
   "metadata": {
    "tags": []
   },
   "outputs": [],
   "source": [
    "df.loc[null_indices2, 'wdir'] = y_predicted2"
   ]
  },
  {
   "cell_type": "code",
   "execution_count": 47,
   "id": "a1bc37e3-25b7-45c3-8e19-402b2d7f0893",
   "metadata": {
    "tags": []
   },
   "outputs": [
    {
     "data": {
      "text/plain": [
       "date               0\n",
       "northshore wh      0\n",
       "west side wh       0\n",
       "southshore wh      0\n",
       "diamond head wh    0\n",
       "east side wh       0\n",
       "wspd               0\n",
       "wdir               0\n",
       "nsd                0\n",
       "dtype: int64"
      ]
     },
     "execution_count": 47,
     "metadata": {},
     "output_type": "execute_result"
    }
   ],
   "source": [
    "df.isnull().sum()"
   ]
  },
  {
   "cell_type": "markdown",
   "id": "d2aad0c4-685a-412c-b9f6-eb485e855042",
   "metadata": {
    "tags": []
   },
   "source": [
    "#### 2.6 Checking for duplicates "
   ]
  },
  {
   "cell_type": "code",
   "execution_count": 48,
   "id": "220738af-c795-4d25-8736-88baf135eb33",
   "metadata": {
    "tags": []
   },
   "outputs": [],
   "source": [
    "duplicates = df[df.duplicated()]"
   ]
  },
  {
   "cell_type": "code",
   "execution_count": 49,
   "id": "34213135-fd85-42b4-8f14-06f8ef07a3ec",
   "metadata": {
    "tags": []
   },
   "outputs": [
    {
     "data": {
      "text/html": [
       "<div>\n",
       "<style scoped>\n",
       "    .dataframe tbody tr th:only-of-type {\n",
       "        vertical-align: middle;\n",
       "    }\n",
       "\n",
       "    .dataframe tbody tr th {\n",
       "        vertical-align: top;\n",
       "    }\n",
       "\n",
       "    .dataframe thead th {\n",
       "        text-align: right;\n",
       "    }\n",
       "</style>\n",
       "<table border=\"1\" class=\"dataframe\">\n",
       "  <thead>\n",
       "    <tr style=\"text-align: right;\">\n",
       "      <th></th>\n",
       "      <th>date</th>\n",
       "      <th>northshore wh</th>\n",
       "      <th>west side wh</th>\n",
       "      <th>southshore wh</th>\n",
       "      <th>diamond head wh</th>\n",
       "      <th>east side wh</th>\n",
       "      <th>wspd</th>\n",
       "      <th>wdir</th>\n",
       "      <th>nsd</th>\n",
       "    </tr>\n",
       "  </thead>\n",
       "  <tbody>\n",
       "  </tbody>\n",
       "</table>\n",
       "</div>"
      ],
      "text/plain": [
       "Empty DataFrame\n",
       "Columns: [date, northshore wh, west side wh, southshore wh, diamond head wh, east side wh, wspd, wdir, nsd]\n",
       "Index: []"
      ]
     },
     "execution_count": 49,
     "metadata": {},
     "output_type": "execute_result"
    }
   ],
   "source": [
    "duplicates"
   ]
  },
  {
   "cell_type": "code",
   "execution_count": 50,
   "id": "072cce19-c656-4ddb-b01c-bd3081e1a0c7",
   "metadata": {
    "tags": []
   },
   "outputs": [
    {
     "name": "stdout",
     "output_type": "stream",
     "text": [
      "<class 'pandas.core.frame.DataFrame'>\n",
      "RangeIndex: 11304 entries, 0 to 11303\n",
      "Data columns (total 9 columns):\n",
      " #   Column           Non-Null Count  Dtype         \n",
      "---  ------           --------------  -----         \n",
      " 0   date             11304 non-null  datetime64[ns]\n",
      " 1   northshore wh    11304 non-null  int64         \n",
      " 2   west side wh     11304 non-null  int64         \n",
      " 3   southshore wh    11304 non-null  int64         \n",
      " 4   diamond head wh  11304 non-null  int64         \n",
      " 5   east side wh     11304 non-null  int64         \n",
      " 6   wspd             11304 non-null  int64         \n",
      " 7   wdir             11304 non-null  float64       \n",
      " 8   nsd              11304 non-null  float64       \n",
      "dtypes: datetime64[ns](1), float64(2), int64(6)\n",
      "memory usage: 794.9 KB\n"
     ]
    }
   ],
   "source": [
    "df.info()"
   ]
  },
  {
   "cell_type": "code",
   "execution_count": 51,
   "id": "50ceb2ec-e581-485d-b7ef-e10c5f829016",
   "metadata": {
    "tags": []
   },
   "outputs": [],
   "source": [
    "df.to_csv('oahufullandclean.csv', index=False)"
   ]
  },
  {
   "cell_type": "markdown",
   "id": "06340ea7-edf6-4aae-921d-74a3ce59590c",
   "metadata": {
    "tags": []
   },
   "source": [
    "## 3.0 EDA"
   ]
  },
  {
   "cell_type": "code",
   "execution_count": 52,
   "id": "1168b708-4f68-471d-83aa-5c449c0259cf",
   "metadata": {
    "tags": []
   },
   "outputs": [],
   "source": [
    "corr = df.corr()"
   ]
  },
  {
   "cell_type": "code",
   "execution_count": 53,
   "id": "af29e14d-7b6c-44fa-90b3-7b9105b5a056",
   "metadata": {
    "tags": []
   },
   "outputs": [
    {
     "data": {
      "image/png": "[encoded data removed]",
      "text/plain": [
       "<Figure size 1000x500 with 2 Axes>"
      ]
     },
     "metadata": {},
     "output_type": "display_data"
    }
   ],
   "source": [
    "# Correlation heatmap \n",
    "\n",
    "plt.figure(figsize = (10,5))\n",
    "sns.heatmap(data = corr,\n",
    "            cmap = 'mako',\n",
    "           annot = True,\n",
    "           mask = np.triu(corr),\n",
    "           vmin = -1,\n",
    "           vmax = 1)\n",
    "plt.show()"
   ]
  },
  {
   "cell_type": "code",
   "execution_count": 89,
   "id": "5b320cc9-3b1d-4bc1-9367-6afbf2245e39",
   "metadata": {
    "tags": []
   },
   "outputs": [
    {
     "data": {
      "text/plain": [
       "<Axes: >"
      ]
     },
     "execution_count": 89,
     "metadata": {},
     "output_type": "execute_result"
    },
    {
     "data": {
      "image/png": "[encoded data removed]",
      "text/plain": [
       "<Figure size 200x1500 with 1 Axes>"
      ]
     },
     "metadata": {},
     "output_type": "display_data"
    }
   ],
   "source": [
    "plt.figure(figsize = (2,15))\n",
    "sns.boxplot(df['northshore wh'],\n",
    "           palette = 'mako')\n"
   ]
  },
  {
   "cell_type": "code",
   "execution_count": 76,
   "id": "bfa66598-39e7-4a50-8be8-b52087794690",
   "metadata": {
    "tags": []
   },
   "outputs": [
    {
     "ename": "AttributeError",
     "evalue": "Rectangle.set() got an unexpected keyword argument 'annot'",
     "output_type": "error",
     "traceback": [
      "\u001b[1;31m---------------------------------------------------------------------------\u001b[0m",
      "\u001b[1;31mAttributeError\u001b[0m                            Traceback (most recent call last)",
      "Cell \u001b[1;32mIn[76], line 2\u001b[0m\n\u001b[0;32m      1\u001b[0m plt\u001b[38;5;241m.\u001b[39mfigure(figsize\u001b[38;5;241m=\u001b[39m(\u001b[38;5;241m20\u001b[39m, \u001b[38;5;241m12\u001b[39m))\n\u001b[1;32m----> 2\u001b[0m sns\u001b[38;5;241m.\u001b[39mcountplot(data\u001b[38;5;241m=\u001b[39mdf, x\u001b[38;5;241m=\u001b[39m\u001b[38;5;124m'\u001b[39m\u001b[38;5;124mnorthshore wh\u001b[39m\u001b[38;5;124m'\u001b[39m, palette\u001b[38;5;241m=\u001b[39m\u001b[38;5;124m'\u001b[39m\u001b[38;5;124mmako_r\u001b[39m\u001b[38;5;124m'\u001b[39m, annot\u001b[38;5;241m=\u001b[39m\u001b[38;5;28;01mTrue\u001b[39;00m)\n\u001b[0;32m      3\u001b[0m plt\u001b[38;5;241m.\u001b[39msavefig(\u001b[38;5;124m\"\u001b[39m\u001b[38;5;124mimage.png\u001b[39m\u001b[38;5;124m\"\u001b[39m)\n\u001b[0;32m      4\u001b[0m plt\u001b[38;5;241m.\u001b[39mshow()\n",
      "File \u001b[1;32m~\\anaconda3\\Lib\\site-packages\\seaborn\\categorical.py:2955\u001b[0m, in \u001b[0;36mcountplot\u001b[1;34m(data, x, y, hue, order, hue_order, orient, color, palette, saturation, width, dodge, ax, **kwargs)\u001b[0m\n\u001b[0;32m   2952\u001b[0m \u001b[38;5;28;01mif\u001b[39;00m ax \u001b[38;5;129;01mis\u001b[39;00m \u001b[38;5;28;01mNone\u001b[39;00m:\n\u001b[0;32m   2953\u001b[0m     ax \u001b[38;5;241m=\u001b[39m plt\u001b[38;5;241m.\u001b[39mgca()\n\u001b[1;32m-> 2955\u001b[0m plotter\u001b[38;5;241m.\u001b[39mplot(ax, kwargs)\n\u001b[0;32m   2956\u001b[0m \u001b[38;5;28;01mreturn\u001b[39;00m ax\n",
      "File \u001b[1;32m~\\anaconda3\\Lib\\site-packages\\seaborn\\categorical.py:1586\u001b[0m, in \u001b[0;36m_BarPlotter.plot\u001b[1;34m(self, ax, bar_kws)\u001b[0m\n\u001b[0;32m   1584\u001b[0m \u001b[38;5;28;01mdef\u001b[39;00m \u001b[38;5;21mplot\u001b[39m(\u001b[38;5;28mself\u001b[39m, ax, bar_kws):\n\u001b[0;32m   1585\u001b[0m \u001b[38;5;250m    \u001b[39m\u001b[38;5;124;03m\"\"\"Make the plot.\"\"\"\u001b[39;00m\n\u001b[1;32m-> 1586\u001b[0m     \u001b[38;5;28mself\u001b[39m\u001b[38;5;241m.\u001b[39mdraw_bars(ax, bar_kws)\n\u001b[0;32m   1587\u001b[0m     \u001b[38;5;28mself\u001b[39m\u001b[38;5;241m.\u001b[39mannotate_axes(ax)\n\u001b[0;32m   1588\u001b[0m     \u001b[38;5;28;01mif\u001b[39;00m \u001b[38;5;28mself\u001b[39m\u001b[38;5;241m.\u001b[39morient \u001b[38;5;241m==\u001b[39m \u001b[38;5;124m\"\u001b[39m\u001b[38;5;124mh\u001b[39m\u001b[38;5;124m\"\u001b[39m:\n",
      "File \u001b[1;32m~\\anaconda3\\Lib\\site-packages\\seaborn\\categorical.py:1551\u001b[0m, in \u001b[0;36m_BarPlotter.draw_bars\u001b[1;34m(self, ax, kws)\u001b[0m\n\u001b[0;32m   1546\u001b[0m barpos \u001b[38;5;241m=\u001b[39m np\u001b[38;5;241m.\u001b[39marange(\u001b[38;5;28mlen\u001b[39m(\u001b[38;5;28mself\u001b[39m\u001b[38;5;241m.\u001b[39mstatistic))\n\u001b[0;32m   1548\u001b[0m \u001b[38;5;28;01mif\u001b[39;00m \u001b[38;5;28mself\u001b[39m\u001b[38;5;241m.\u001b[39mplot_hues \u001b[38;5;129;01mis\u001b[39;00m \u001b[38;5;28;01mNone\u001b[39;00m:\n\u001b[0;32m   1549\u001b[0m \n\u001b[0;32m   1550\u001b[0m     \u001b[38;5;66;03m# Draw the bars\u001b[39;00m\n\u001b[1;32m-> 1551\u001b[0m     barfunc(barpos, \u001b[38;5;28mself\u001b[39m\u001b[38;5;241m.\u001b[39mstatistic, \u001b[38;5;28mself\u001b[39m\u001b[38;5;241m.\u001b[39mwidth,\n\u001b[0;32m   1552\u001b[0m             color\u001b[38;5;241m=\u001b[39m\u001b[38;5;28mself\u001b[39m\u001b[38;5;241m.\u001b[39mcolors, align\u001b[38;5;241m=\u001b[39m\u001b[38;5;124m\"\u001b[39m\u001b[38;5;124mcenter\u001b[39m\u001b[38;5;124m\"\u001b[39m, \u001b[38;5;241m*\u001b[39m\u001b[38;5;241m*\u001b[39mkws)\n\u001b[0;32m   1554\u001b[0m     \u001b[38;5;66;03m# Draw the confidence intervals\u001b[39;00m\n\u001b[0;32m   1555\u001b[0m     errcolors \u001b[38;5;241m=\u001b[39m [\u001b[38;5;28mself\u001b[39m\u001b[38;5;241m.\u001b[39merrcolor] \u001b[38;5;241m*\u001b[39m \u001b[38;5;28mlen\u001b[39m(barpos)\n",
      "File \u001b[1;32m~\\anaconda3\\Lib\\site-packages\\matplotlib\\__init__.py:1446\u001b[0m, in \u001b[0;36m_preprocess_data.<locals>.inner\u001b[1;34m(ax, data, *args, **kwargs)\u001b[0m\n\u001b[0;32m   1443\u001b[0m \u001b[38;5;129m@functools\u001b[39m\u001b[38;5;241m.\u001b[39mwraps(func)\n\u001b[0;32m   1444\u001b[0m \u001b[38;5;28;01mdef\u001b[39;00m \u001b[38;5;21minner\u001b[39m(ax, \u001b[38;5;241m*\u001b[39margs, data\u001b[38;5;241m=\u001b[39m\u001b[38;5;28;01mNone\u001b[39;00m, \u001b[38;5;241m*\u001b[39m\u001b[38;5;241m*\u001b[39mkwargs):\n\u001b[0;32m   1445\u001b[0m     \u001b[38;5;28;01mif\u001b[39;00m data \u001b[38;5;129;01mis\u001b[39;00m \u001b[38;5;28;01mNone\u001b[39;00m:\n\u001b[1;32m-> 1446\u001b[0m         \u001b[38;5;28;01mreturn\u001b[39;00m func(ax, \u001b[38;5;241m*\u001b[39m\u001b[38;5;28mmap\u001b[39m(sanitize_sequence, args), \u001b[38;5;241m*\u001b[39m\u001b[38;5;241m*\u001b[39mkwargs)\n\u001b[0;32m   1448\u001b[0m     bound \u001b[38;5;241m=\u001b[39m new_sig\u001b[38;5;241m.\u001b[39mbind(ax, \u001b[38;5;241m*\u001b[39margs, \u001b[38;5;241m*\u001b[39m\u001b[38;5;241m*\u001b[39mkwargs)\n\u001b[0;32m   1449\u001b[0m     auto_label \u001b[38;5;241m=\u001b[39m (bound\u001b[38;5;241m.\u001b[39marguments\u001b[38;5;241m.\u001b[39mget(label_namer)\n\u001b[0;32m   1450\u001b[0m                   \u001b[38;5;129;01mor\u001b[39;00m bound\u001b[38;5;241m.\u001b[39mkwargs\u001b[38;5;241m.\u001b[39mget(label_namer))\n",
      "File \u001b[1;32m~\\anaconda3\\Lib\\site-packages\\matplotlib\\axes\\_axes.py:2480\u001b[0m, in \u001b[0;36mAxes.bar\u001b[1;34m(self, x, height, width, bottom, align, **kwargs)\u001b[0m\n\u001b[0;32m   2471\u001b[0m \u001b[38;5;28;01mfor\u001b[39;00m l, b, w, h, c, e, lw, htch, lbl \u001b[38;5;129;01min\u001b[39;00m args:\n\u001b[0;32m   2472\u001b[0m     r \u001b[38;5;241m=\u001b[39m mpatches\u001b[38;5;241m.\u001b[39mRectangle(\n\u001b[0;32m   2473\u001b[0m         xy\u001b[38;5;241m=\u001b[39m(l, b), width\u001b[38;5;241m=\u001b[39mw, height\u001b[38;5;241m=\u001b[39mh,\n\u001b[0;32m   2474\u001b[0m         facecolor\u001b[38;5;241m=\u001b[39mc,\n\u001b[1;32m   (...)\u001b[0m\n\u001b[0;32m   2478\u001b[0m         hatch\u001b[38;5;241m=\u001b[39mhtch,\n\u001b[0;32m   2479\u001b[0m         )\n\u001b[1;32m-> 2480\u001b[0m     r\u001b[38;5;241m.\u001b[39m_internal_update(kwargs)\n\u001b[0;32m   2481\u001b[0m     r\u001b[38;5;241m.\u001b[39mget_path()\u001b[38;5;241m.\u001b[39m_interpolation_steps \u001b[38;5;241m=\u001b[39m \u001b[38;5;241m100\u001b[39m\n\u001b[0;32m   2482\u001b[0m     \u001b[38;5;28;01mif\u001b[39;00m orientation \u001b[38;5;241m==\u001b[39m \u001b[38;5;124m'\u001b[39m\u001b[38;5;124mvertical\u001b[39m\u001b[38;5;124m'\u001b[39m:\n",
      "File \u001b[1;32m~\\anaconda3\\Lib\\site-packages\\matplotlib\\artist.py:1223\u001b[0m, in \u001b[0;36mArtist._internal_update\u001b[1;34m(self, kwargs)\u001b[0m\n\u001b[0;32m   1216\u001b[0m \u001b[38;5;28;01mdef\u001b[39;00m \u001b[38;5;21m_internal_update\u001b[39m(\u001b[38;5;28mself\u001b[39m, kwargs):\n\u001b[0;32m   1217\u001b[0m \u001b[38;5;250m    \u001b[39m\u001b[38;5;124;03m\"\"\"\u001b[39;00m\n\u001b[0;32m   1218\u001b[0m \u001b[38;5;124;03m    Update artist properties without prenormalizing them, but generating\u001b[39;00m\n\u001b[0;32m   1219\u001b[0m \u001b[38;5;124;03m    errors as if calling `set`.\u001b[39;00m\n\u001b[0;32m   1220\u001b[0m \n\u001b[0;32m   1221\u001b[0m \u001b[38;5;124;03m    The lack of prenormalization is to maintain backcompatibility.\u001b[39;00m\n\u001b[0;32m   1222\u001b[0m \u001b[38;5;124;03m    \"\"\"\u001b[39;00m\n\u001b[1;32m-> 1223\u001b[0m     \u001b[38;5;28;01mreturn\u001b[39;00m \u001b[38;5;28mself\u001b[39m\u001b[38;5;241m.\u001b[39m_update_props(\n\u001b[0;32m   1224\u001b[0m         kwargs, \u001b[38;5;124m\"\u001b[39m\u001b[38;5;132;01m{cls.__name__}\u001b[39;00m\u001b[38;5;124m.set() got an unexpected keyword argument \u001b[39m\u001b[38;5;124m\"\u001b[39m\n\u001b[0;32m   1225\u001b[0m         \u001b[38;5;124m\"\u001b[39m\u001b[38;5;132;01m{prop_name!r}\u001b[39;00m\u001b[38;5;124m\"\u001b[39m)\n",
      "File \u001b[1;32m~\\anaconda3\\Lib\\site-packages\\matplotlib\\artist.py:1197\u001b[0m, in \u001b[0;36mArtist._update_props\u001b[1;34m(self, props, errfmt)\u001b[0m\n\u001b[0;32m   1195\u001b[0m             func \u001b[38;5;241m=\u001b[39m \u001b[38;5;28mgetattr\u001b[39m(\u001b[38;5;28mself\u001b[39m, \u001b[38;5;124mf\u001b[39m\u001b[38;5;124m\"\u001b[39m\u001b[38;5;124mset_\u001b[39m\u001b[38;5;132;01m{\u001b[39;00mk\u001b[38;5;132;01m}\u001b[39;00m\u001b[38;5;124m\"\u001b[39m, \u001b[38;5;28;01mNone\u001b[39;00m)\n\u001b[0;32m   1196\u001b[0m             \u001b[38;5;28;01mif\u001b[39;00m \u001b[38;5;129;01mnot\u001b[39;00m \u001b[38;5;28mcallable\u001b[39m(func):\n\u001b[1;32m-> 1197\u001b[0m                 \u001b[38;5;28;01mraise\u001b[39;00m \u001b[38;5;167;01mAttributeError\u001b[39;00m(\n\u001b[0;32m   1198\u001b[0m                     errfmt\u001b[38;5;241m.\u001b[39mformat(\u001b[38;5;28mcls\u001b[39m\u001b[38;5;241m=\u001b[39m\u001b[38;5;28mtype\u001b[39m(\u001b[38;5;28mself\u001b[39m), prop_name\u001b[38;5;241m=\u001b[39mk))\n\u001b[0;32m   1199\u001b[0m             ret\u001b[38;5;241m.\u001b[39mappend(func(v))\n\u001b[0;32m   1200\u001b[0m \u001b[38;5;28;01mif\u001b[39;00m ret:\n",
      "\u001b[1;31mAttributeError\u001b[0m: Rectangle.set() got an unexpected keyword argument 'annot'"
     ]
    },
    {
     "data": {
      "image/png": "[encoded data removed]",
      "text/plain": [
       "<Figure size 2000x1200 with 1 Axes>"
      ]
     },
     "metadata": {},
     "output_type": "display_data"
    }
   ],
   "source": [
    "plt.figure(figsize = (20,12))\n",
    "sns.countplot(df, x = 'northshore wh',\n",
    "             palette = 'mako_r')\n",
    "plt.savefig(\"image.png\")\n",
    "plt.show()\n"
   ]
  },
  {
   "cell_type": "code",
   "execution_count": 54,
   "id": "a0f78be4-4b13-4284-9392-83d4acdd38b1",
   "metadata": {
    "tags": []
   },
   "outputs": [],
   "source": [
    "# sns.pairplot(df,\n",
    "#             hue = 'wspd')\n",
    "# plt.show();"
   ]
  },
  {
   "cell_type": "code",
   "execution_count": 68,
   "id": "45db588a-b556-4610-a988-124d25f54317",
   "metadata": {
    "tags": []
   },
   "outputs": [
    {
     "data": {
      "text/plain": [
       "<Axes: xlabel='northshore wh', ylabel='west side wh'>"
      ]
     },
     "execution_count": 68,
     "metadata": {},
     "output_type": "execute_result"
    },
    {
     "data": {
      "image/png": "[encoded data removed]",
      "text/plain": [
       "<Figure size 1500x1500 with 1 Axes>"
      ]
     },
     "metadata": {},
     "output_type": "display_data"
    }
   ],
   "source": [
    "plt.figure(figsize = (15,15))\n",
    "sns.scatterplot(x=\"northshore wh\", y=\"west side wh\",\n",
    "             data=df)"
   ]
  },
  {
   "cell_type": "code",
   "execution_count": null,
   "id": "14833a5b-6e4c-47cf-ac12-fb2a177f0f96",
   "metadata": {},
   "outputs": [],
   "source": []
  }
 ],
 "metadata": {
  "kernelspec": {
   "display_name": "Python 3 (ipykernel)",
   "language": "python",
   "name": "python3"
  },
  "language_info": {
   "codemirror_mode": {
    "name": "ipython",
    "version": 3
   },
   "file_extension": ".py",
   "mimetype": "text/x-python",
   "name": "python",
   "nbconvert_exporter": "python",
   "pygments_lexer": "ipython3",
   "version": "3.11.5"
  }
 },
 "nbformat": 4,
 "nbformat_minor": 5
}
